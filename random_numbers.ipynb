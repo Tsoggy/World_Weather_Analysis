{
 "cells": [
  {
   "cell_type": "code",
   "execution_count": 1,
   "id": "4a6be346",
   "metadata": {},
   "outputs": [],
   "source": [
    "import random"
   ]
  },
  {
   "cell_type": "code",
   "execution_count": 2,
   "id": "81bc708f",
   "metadata": {},
   "outputs": [
    {
     "data": {
      "text/plain": [
       "69"
      ]
     },
     "execution_count": 2,
     "metadata": {},
     "output_type": "execute_result"
    }
   ],
   "source": [
    "random.randint(-90, 90)"
   ]
  },
  {
   "cell_type": "code",
   "execution_count": 3,
   "id": "cc2bebec",
   "metadata": {},
   "outputs": [
    {
     "data": {
      "text/plain": [
       "0.40283430362410977"
      ]
     },
     "execution_count": 3,
     "metadata": {},
     "output_type": "execute_result"
    }
   ],
   "source": [
    "random.random()"
   ]
  },
  {
   "cell_type": "code",
   "execution_count": 4,
   "id": "58e0a633",
   "metadata": {},
   "outputs": [
    {
     "data": {
      "text/plain": [
       "-68.78589189023876"
      ]
     },
     "execution_count": 4,
     "metadata": {},
     "output_type": "execute_result"
    }
   ],
   "source": [
    "random_number = random.randint(-90,89) + random.random()\n",
    "random_number"
   ]
  },
  {
   "cell_type": "code",
   "execution_count": 10,
   "id": "b40795b0",
   "metadata": {},
   "outputs": [],
   "source": [
    "x = 1\n",
    "latitudes = []\n",
    "while x < 11:\n",
    "    random_lat = random.randint(-90,89) + random.random()\n",
    "    latitudes.append(random_lat)\n",
    "    x += 1"
   ]
  },
  {
   "cell_type": "code",
   "execution_count": 11,
   "id": "f49de277",
   "metadata": {},
   "outputs": [
    {
     "data": {
      "text/plain": [
       "[59.14560254222545,\n",
       " -58.10008962030758,\n",
       " 83.13523507615312,\n",
       " 22.8660700371734,\n",
       " 59.50390939803902,\n",
       " 63.414890065706565,\n",
       " -57.22132923202967,\n",
       " 66.44666605782264,\n",
       " -69.78708169558422,\n",
       " -35.697219692060195]"
      ]
     },
     "execution_count": 11,
     "metadata": {},
     "output_type": "execute_result"
    }
   ],
   "source": [
    "latitudes"
   ]
  },
  {
   "cell_type": "code",
   "execution_count": 12,
   "id": "8c41ff89",
   "metadata": {},
   "outputs": [
    {
     "data": {
      "text/plain": [
       "66"
      ]
     },
     "execution_count": 12,
     "metadata": {},
     "output_type": "execute_result"
    }
   ],
   "source": [
    "random.randrange(-90, 90, step=1)"
   ]
  },
  {
   "cell_type": "code",
   "execution_count": 13,
   "id": "d04fb3d9",
   "metadata": {},
   "outputs": [
    {
     "data": {
      "text/plain": [
       "30"
      ]
     },
     "execution_count": 13,
     "metadata": {},
     "output_type": "execute_result"
    }
   ],
   "source": [
    "random.randrange(-90, 90, step=3)"
   ]
  },
  {
   "cell_type": "code",
   "execution_count": 14,
   "id": "f4d9b6e4",
   "metadata": {},
   "outputs": [
    {
     "data": {
      "text/plain": [
       "-71.19741047194896"
      ]
     },
     "execution_count": 14,
     "metadata": {},
     "output_type": "execute_result"
    }
   ],
   "source": [
    "random.uniform(-90,90)"
   ]
  },
  {
   "cell_type": "code",
   "execution_count": 15,
   "id": "95536004",
   "metadata": {},
   "outputs": [],
   "source": [
    "import numpy as np"
   ]
  },
  {
   "cell_type": "code",
   "execution_count": 16,
   "id": "8beecc63",
   "metadata": {},
   "outputs": [
    {
     "data": {
      "text/plain": [
       "40.200269013058374"
      ]
     },
     "execution_count": 16,
     "metadata": {},
     "output_type": "execute_result"
    }
   ],
   "source": [
    "np.random.uniform(-90.000, 90.000)"
   ]
  },
  {
   "cell_type": "code",
   "execution_count": 17,
   "id": "1ce1158d",
   "metadata": {},
   "outputs": [
    {
     "data": {
      "text/plain": [
       "-31.037328860983017"
      ]
     },
     "execution_count": 17,
     "metadata": {},
     "output_type": "execute_result"
    }
   ],
   "source": [
    "np.random.uniform(low=-90, high=90)"
   ]
  },
  {
   "cell_type": "code",
   "execution_count": 20,
   "id": "bca4878a",
   "metadata": {},
   "outputs": [
    {
     "data": {
      "text/plain": [
       "array([ -0.11845574, -36.90632509,  63.12549407, -67.2782783 ,\n",
       "        34.41912344,  64.1000954 ,  11.01836223,  45.80282179,\n",
       "        -5.25159756,   2.07848145,  74.8388158 , -85.17254865,\n",
       "        -1.50259243, -45.83569639,  86.59180701,  66.72910402,\n",
       "       -36.20533292,  83.32984022, -44.56409436,  23.7467117 ,\n",
       "        -5.98735751, -60.29699619, -37.12302152,  57.05269321,\n",
       "       -74.00265973,  75.99035686,  21.45641951,  59.08096427,\n",
       "       -54.77240625,  78.83573881,  -1.59351197, -14.89775546,\n",
       "       -41.52820699,  10.63532711,  -4.84183597, -11.93600168,\n",
       "        19.28525971,  -2.03571373, -66.16170848,  59.70564129,\n",
       "       -28.77191372, -45.63336749,  42.01782094,  60.78149646,\n",
       "       -57.22037011,  -6.88404238,  10.79612325,  83.09168506,\n",
       "        71.3327959 , -30.30724984])"
      ]
     },
     "execution_count": 20,
     "metadata": {},
     "output_type": "execute_result"
    }
   ],
   "source": [
    "np.random.uniform(-90, 90, size=50)"
   ]
  },
  {
   "cell_type": "code",
   "execution_count": 21,
   "id": "ca3e2745",
   "metadata": {},
   "outputs": [],
   "source": [
    "import timeit"
   ]
  },
  {
   "cell_type": "code",
   "execution_count": 22,
   "id": "b3675dbb",
   "metadata": {},
   "outputs": [
    {
     "name": "stdout",
     "output_type": "stream",
     "text": [
      "12.9 µs ± 585 ns per loop (mean ± std. dev. of 7 runs, 100000 loops each)\n"
     ]
    }
   ],
   "source": [
    "%timeit np.random.uniform(-90, 90, size = 1500)"
   ]
  },
  {
   "cell_type": "code",
   "execution_count": 23,
   "id": "6353d800",
   "metadata": {},
   "outputs": [
    {
     "name": "stdout",
     "output_type": "stream",
     "text": [
      "1.69 ms ± 57.5 µs per loop (mean ± std. dev. of 7 runs, 1000 loops each)\n"
     ]
    }
   ],
   "source": [
    "def latitudes(size):\n",
    "    latitudes = []\n",
    "    x = 0\n",
    "    while x < (size):\n",
    "        random_lat = random.randint(-90, 90) + random.random()\n",
    "        latitudes.append(random_lat)\n",
    "        x += 1\n",
    "    return latitudes\n",
    "\n",
    "%timeit latitudes(1500)"
   ]
  },
  {
   "cell_type": "code",
   "execution_count": 47,
   "id": "91652dea",
   "metadata": {},
   "outputs": [
    {
     "data": {
      "text/plain": [
       "array([-38.08732747,  38.39442943, -14.16031688, ..., -10.12236906,\n",
       "        87.14530678,  36.5589407 ])"
      ]
     },
     "execution_count": 47,
     "metadata": {},
     "output_type": "execute_result"
    }
   ],
   "source": [
    "for x in range(0,1500):\n",
    "    random_lat = np.random.uniform(-90, 90, size = 1500)\n",
    "random_lat"
   ]
  },
  {
   "cell_type": "code",
   "execution_count": 50,
   "id": "bd57afbb",
   "metadata": {},
   "outputs": [
    {
     "data": {
      "text/plain": [
       "array([ 66.56277226,  71.38020304, -41.88338844, ...,  42.29844786,\n",
       "       -79.76950924,   5.25602851])"
      ]
     },
     "execution_count": 50,
     "metadata": {},
     "output_type": "execute_result"
    }
   ],
   "source": [
    "for x in range(0,1500):\n",
    "    random_lat = np.random.uniform(-90, 90, size = x)\n",
    "random_lat"
   ]
  },
  {
   "cell_type": "code",
   "execution_count": 51,
   "id": "0aa5f10b",
   "metadata": {},
   "outputs": [
    {
     "data": {
      "text/plain": [
       "array([ 44.67957703,   9.22627177, -14.50673483, ...,  65.72095709,\n",
       "       -51.04339524,  88.81530808])"
      ]
     },
     "execution_count": 51,
     "metadata": {},
     "output_type": "execute_result"
    }
   ],
   "source": [
    "x = 1500\n",
    "random_lat = np.random.uniform(-90, 90, size = x)\n",
    "random_lat"
   ]
  }
 ],
 "metadata": {
  "kernelspec": {
   "display_name": "PythonData",
   "language": "python",
   "name": "pythondata"
  },
  "language_info": {
   "codemirror_mode": {
    "name": "ipython",
    "version": 3
   },
   "file_extension": ".py",
   "mimetype": "text/x-python",
   "name": "python",
   "nbconvert_exporter": "python",
   "pygments_lexer": "ipython3",
   "version": "3.7.10"
  }
 },
 "nbformat": 4,
 "nbformat_minor": 5
}
